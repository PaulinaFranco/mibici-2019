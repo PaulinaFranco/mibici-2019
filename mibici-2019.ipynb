{
 "cells": [
  {
   "cell_type": "code",
   "execution_count": 1,
   "metadata": {},
   "outputs": [
    {
     "data": {
      "text/html": [
       "<div>\n",
       "<table border=\"1\" class=\"dataframe\">\n",
       "  <thead>\n",
       "    <tr style=\"text-align: right;\">\n",
       "      <th></th>\n",
       "      <th>id</th>\n",
       "      <th>name</th>\n",
       "      <th>location</th>\n",
       "      <th>latitude</th>\n",
       "      <th>longitude</th>\n",
       "      <th>status</th>\n",
       "    </tr>\n",
       "    <tr>\n",
       "      <th>obcn</th>\n",
       "      <th></th>\n",
       "      <th></th>\n",
       "      <th></th>\n",
       "      <th></th>\n",
       "      <th></th>\n",
       "      <th></th>\n",
       "    </tr>\n",
       "  </thead>\n",
       "  <tbody>\n",
       "    <tr>\n",
       "      <th>GDL-001</th>\n",
       "      <td>2</td>\n",
       "      <td>(GDL-001) C. Epigmenio Glez./ Av. 16 de Sept.</td>\n",
       "      <td>POL�GONO CENTRAL</td>\n",
       "      <td>20.666378</td>\n",
       "      <td>-103.348820</td>\n",
       "      <td>IN_SERVICE</td>\n",
       "    </tr>\n",
       "    <tr>\n",
       "      <th>GDL-002</th>\n",
       "      <td>3</td>\n",
       "      <td>(GDL-002) C. Colonias  / Av.  Ni�os h�roes</td>\n",
       "      <td>POL�GONO CENTRAL</td>\n",
       "      <td>20.667228</td>\n",
       "      <td>-103.366000</td>\n",
       "      <td>IN_SERVICE</td>\n",
       "    </tr>\n",
       "    <tr>\n",
       "      <th>GDL-003</th>\n",
       "      <td>4</td>\n",
       "      <td>(GDL-003) C. Vidrio / Av. Chapultepec</td>\n",
       "      <td>POL�GONO CENTRAL</td>\n",
       "      <td>20.667690</td>\n",
       "      <td>-103.368252</td>\n",
       "      <td>IN_SERVICE</td>\n",
       "    </tr>\n",
       "    <tr>\n",
       "      <th>GDL-004</th>\n",
       "      <td>5</td>\n",
       "      <td>(GDL-004) C. Ghilardi /C. Miraflores</td>\n",
       "      <td>POL�GONO CENTRAL</td>\n",
       "      <td>20.691750</td>\n",
       "      <td>-103.362550</td>\n",
       "      <td>IN_SERVICE</td>\n",
       "    </tr>\n",
       "    <tr>\n",
       "      <th>GDL-005</th>\n",
       "      <td>6</td>\n",
       "      <td>(GDL-005) C. San Diego /Calzada Independencia</td>\n",
       "      <td>POL�GONO CENTRAL</td>\n",
       "      <td>20.681151</td>\n",
       "      <td>-103.338863</td>\n",
       "      <td>IN_SERVICE</td>\n",
       "    </tr>\n",
       "  </tbody>\n",
       "</table>\n",
       "</div>"
      ],
      "text/plain": [
       "         id                                           name          location  \\\n",
       "obcn                                                                           \n",
       "GDL-001   2  (GDL-001) C. Epigmenio Glez./ Av. 16 de Sept.  POL�GONO CENTRAL   \n",
       "GDL-002   3     (GDL-002) C. Colonias  / Av.  Ni�os h�roes  POL�GONO CENTRAL   \n",
       "GDL-003   4          (GDL-003) C. Vidrio / Av. Chapultepec  POL�GONO CENTRAL   \n",
       "GDL-004   5           (GDL-004) C. Ghilardi /C. Miraflores  POL�GONO CENTRAL   \n",
       "GDL-005   6  (GDL-005) C. San Diego /Calzada Independencia  POL�GONO CENTRAL   \n",
       "\n",
       "          latitude   longitude      status  \n",
       "obcn                                        \n",
       "GDL-001  20.666378 -103.348820  IN_SERVICE  \n",
       "GDL-002  20.667228 -103.366000  IN_SERVICE  \n",
       "GDL-003  20.667690 -103.368252  IN_SERVICE  \n",
       "GDL-004  20.691750 -103.362550  IN_SERVICE  \n",
       "GDL-005  20.681151 -103.338863  IN_SERVICE  "
      ]
     },
     "execution_count": 1,
     "metadata": {},
     "output_type": "execute_result"
    }
   ],
   "source": [
    "import pandas as pd\n",
    "import numpy as np\n",
    "#import geopandas as gpd\n",
    "#import folium \n",
    "#from folium import Choropleth\n",
    "#from folium.plugins import HeatMap  \n",
    "\n",
    "stations = pd.read_csv(\"../mibici2019-01a09/nomenclatura_2019_09.csv\", index_col = 'obcn', encoding = \"utf8\")\n",
    "#mibici_nomenclatura.shape\n",
    "#stations.describe()\n",
    "stations.head()\n",
    "\n"
   ]
  },
  {
   "cell_type": "code",
   "execution_count": 3,
   "metadata": {},
   "outputs": [
    {
     "data": {
      "text/plain": [
       "(405169, 7)"
      ]
     },
     "execution_count": 3,
     "metadata": {},
     "output_type": "execute_result"
    }
   ],
   "source": [
    "\n",
    "#Se lee el archivo csv de enero de 2019\n",
    "january = pd.read_csv('../mibici2019-01a09/datos_abiertos_2019_01.csv', index_col = 0, encoding = \"utf_8\")\n",
    "\n",
    "#se obtienen características de archivo: más de 405mil líneas y 7 columnas\n",
    "january.shape\n",
    "\n",
    "\n"
   ]
  },
  {
   "cell_type": "code",
   "execution_count": null,
   "metadata": {},
   "outputs": [],
   "source": [
    "january.head()"
   ]
  },
  {
   "cell_type": "code",
   "execution_count": 5,
   "metadata": {},
   "outputs": [
    {
     "data": {
      "image/png": "[encoded data removed]",
      "text/plain": [
       "<matplotlib.figure.Figure at 0x7ff9914bdf98>"
      ]
     },
     "metadata": {},
     "output_type": "display_data"
    }
   ],
   "source": [
    "import matplotlib.pyplot as plt\n",
    "\n",
    "#canvas \n",
    "plot = plt.figure(figsize=(20,10))\n",
    "\n",
    "\n",
    "#gráfica 1\n",
    "plt.subplot2grid((2,3), (0,0))\n",
    "january.Genero.value_counts().plot(kind='barh', alpha=0.5, color='yg')\n",
    "plt.title('Uso de MiBici por género en enero de 2019 - totales')\n",
    "\n",
    "\n",
    "#gráfica 2\n",
    "plt.subplot2grid((2,3), (0,1))\n",
    "january.Genero.value_counts(normalize = True).plot(kind = 'barh', alpha = 0.5)\n",
    "plt.title('Uso de MiBici por género en enero de 2019 - porcentajes')\n",
    "\n",
    "plt.show()\n"
   ]
  },
  {
   "cell_type": "code",
   "execution_count": 6,
   "metadata": {},
   "outputs": [
    {
     "data": {
      "image/png": "[encoded data removed]",
      "text/plain": [
       "<matplotlib.figure.Figure at 0x7ff98c8025f8>"
      ]
     },
     "metadata": {},
     "output_type": "display_data"
    }
   ],
   "source": [
    "#gráfica 3\n",
    "plot = plt.figure(figsize=(45,20))\n",
    "\n",
    "plt.subplot2grid((2,3), (0,0))\n",
    "january.Fecha_de_nacimiento.value_counts().plot(kind='bar', alpha=0.5)\n",
    "plt.title('Uso de MiBici por Año de nacimiento en enero de 2019')\n",
    "\n",
    "plt.show()"
   ]
  },
  {
   "cell_type": "code",
   "execution_count": 7,
   "metadata": {},
   "outputs": [
    {
     "data": {
      "text/plain": [
       "1992.0    24883\n",
       "1993.0    24883\n",
       "1994.0    24196\n",
       "1990.0    24155\n",
       "1991.0    23080\n",
       "1995.0    20869\n",
       "1989.0    18402\n",
       "1988.0    17614\n",
       "1996.0    17305\n",
       "1997.0    15894\n",
       "1987.0    14697\n",
       "1986.0    12516\n",
       "1998.0    11143\n",
       "1984.0    11065\n",
       "1985.0    10761\n",
       "1982.0     9870\n",
       "1999.0     9365\n",
       "1983.0     9088\n",
       "1980.0     8299\n",
       "1981.0     8092\n",
       "1979.0     6997\n",
       "1978.0     6430\n",
       "1977.0     6169\n",
       "2000.0     5227\n",
       "1974.0     5081\n",
       "1976.0     5002\n",
       "1975.0     4173\n",
       "1972.0     4024\n",
       "1973.0     3870\n",
       "1970.0     3706\n",
       "          ...  \n",
       "1964.0     2193\n",
       "1961.0     1956\n",
       "2001.0     1710\n",
       "1962.0     1689\n",
       "1960.0     1589\n",
       "1959.0     1107\n",
       "1955.0     1015\n",
       "1957.0      811\n",
       "1958.0      801\n",
       "1956.0      776\n",
       "1949.0      555\n",
       "2002.0      552\n",
       "1952.0      472\n",
       "1954.0      383\n",
       "1953.0      369\n",
       "1950.0      331\n",
       "1948.0      315\n",
       "1951.0      244\n",
       "1942.0      159\n",
       "1918.0       46\n",
       "1922.0       37\n",
       "1945.0       30\n",
       "1941.0       22\n",
       "1940.0        7\n",
       "1944.0        7\n",
       "1943.0        6\n",
       "1946.0        5\n",
       "1947.0        5\n",
       "1936.0        5\n",
       "1933.0        2\n",
       "Name: Fecha_de_nacimiento, dtype: int64"
      ]
     },
     "execution_count": 7,
     "metadata": {},
     "output_type": "execute_result"
    }
   ],
   "source": [
    "#datos para gráfica 5\n",
    "\n",
    "january.Fecha_de_nacimiento.value_counts()\n"
   ]
  },
  {
   "cell_type": "code",
   "execution_count": null,
   "metadata": {},
   "outputs": [],
   "source": [
    "fig = plt.figure(figsize=(50,20))\n",
    "\n",
    "for gender in ['M', 'F']:\n",
    "    january.Fecha_de_nacimiento[january.Genero == gender].plot(kind = 'kde')\n",
    "plt.legend(('hombres', 'mujeres'))\n",
    "plt.show()"
   ]
  },
  {
   "cell_type": "code",
   "execution_count": null,
   "metadata": {},
   "outputs": [],
   "source": [
    "import matplotlib.dates as mdates\n",
    "from datetime import datetime\n",
    "\n"
   ]
  },
  {
   "cell_type": "code",
   "execution_count": null,
   "metadata": {},
   "outputs": [],
   "source": []
  }
 ],
 "metadata": {
  "kernelspec": {
   "display_name": "Python 3",
   "language": "python",
   "name": "python3"
  },
  "language_info": {
   "codemirror_mode": {
    "name": "ipython",
    "version": 3
   },
   "file_extension": ".py",
   "mimetype": "text/x-python",
   "name": "python",
   "nbconvert_exporter": "python",
   "pygments_lexer": "ipython3",
   "version": "3.5.3"
  }
 },
 "nbformat": 4,
 "nbformat_minor": 2
}
